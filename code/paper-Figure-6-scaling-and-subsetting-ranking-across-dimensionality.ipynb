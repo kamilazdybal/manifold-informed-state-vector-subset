{
 "cells": [
  {
   "cell_type": "markdown",
   "metadata": {},
   "source": [
    "# 📄 Generate plot showing cost function values across changing manifold dimensionality (**Figure 6**)\n",
    "\n",
    "This Jupyter notebook loads results obtained with the [`RUN-scaling-and-subsetting-ranking-across-dimensionality.py`](../scripts/RUN-scaling-and-subsetting-ranking-across-dimensionality.py) script. The script can be readily run on multiple CPUs.\n",
    "\n",
    "***"
   ]
  },
  {
   "cell_type": "code",
   "execution_count": 1,
   "metadata": {},
   "outputs": [],
   "source": [
    "%run -i imports.py\n",
    "%matplotlib inline"
   ]
  },
  {
   "cell_type": "code",
   "execution_count": 2,
   "metadata": {},
   "outputs": [],
   "source": [
    "data_tag = 'clustered-flamelet-CO-H2-10-1'\n",
    "optimizing = 'T-H2-O2-OH-H2O-CO-CO2'\n",
    "\n",
    "sample_percentage = 100\n",
    "scalings_list = ['auto', 'pareto', 'vast', 'range', '0to1', '-1to1', 'level', 'max']\n",
    "tex_scalings_list = ['Auto', 'Pareto', 'VAST', 'Range', '$\\\\langle 0, 1 \\\\rangle$', '$\\\\langle -1, 1 \\\\rangle$', 'Level', 'Max']"
   ]
  },
  {
   "cell_type": "markdown",
   "metadata": {},
   "source": [
    "***\n",
    "\n",
    "## Upload the results"
   ]
  },
  {
   "cell_type": "markdown",
   "metadata": {},
   "source": [
    "### Results for 2D manifolds"
   ]
  },
  {
   "cell_type": "code",
   "execution_count": 3,
   "metadata": {},
   "outputs": [],
   "source": [
    "costs_pure_scaling_2D = []\n",
    "costs_subsetting_backward_2D = []\n",
    "\n",
    "for scaling in scalings_list:\n",
    "    \n",
    "    cost_pure_scaling_2D = pd.read_csv('../results/REPRODUCE-RESULTS-' + data_tag + '-perc-of-data-' + str(sample_percentage) + '-2D-LDM-optimizing-on-' + optimizing + '-' + scaling + '-scaling-cost.csv', header=None).to_numpy().ravel()\n",
    "    costs_pure_scaling_2D.append(cost_pure_scaling_2D[0])\n",
    "\n",
    "    cost_subsetting_backward_2D = pd.read_csv('../results/REPRODUCE-RESULTS-' + data_tag + '-perc-of-data-' + str(sample_percentage) + '-2D-LDM-optimizing-on-' + optimizing + '-' + scaling + '-scaling-backward-variable-elimination-cost.csv', header=None).to_numpy().ravel()\n",
    "    costs_subsetting_backward_2D.append(cost_subsetting_backward_2D[0])"
   ]
  },
  {
   "cell_type": "code",
   "execution_count": 4,
   "metadata": {},
   "outputs": [
    {
     "name": "stdout",
     "output_type": "stream",
     "text": [
      "2\n",
      "0\n"
     ]
    }
   ],
   "source": [
    "(best_scaling_2D, ) = np.where(costs_pure_scaling_2D==np.min(costs_pure_scaling_2D))\n",
    "best_scaling_2D = int(best_scaling_2D)\n",
    "\n",
    "print(best_scaling_2D)\n",
    "\n",
    "(best_subset_backward_2D, ) = np.where(costs_subsetting_backward_2D==np.min(costs_subsetting_backward_2D))\n",
    "best_subset_backward_2D = int(best_subset_backward_2D)\n",
    "\n",
    "print(best_subset_backward_2D)"
   ]
  },
  {
   "cell_type": "markdown",
   "metadata": {},
   "source": [
    "### Results for 3D manifolds"
   ]
  },
  {
   "cell_type": "code",
   "execution_count": 5,
   "metadata": {},
   "outputs": [],
   "source": [
    "costs_pure_scaling_3D = []\n",
    "costs_subsetting_backward_3D = []\n",
    "\n",
    "for scaling in scalings_list:\n",
    "    \n",
    "    cost_pure_scaling_3D = pd.read_csv('../results/REPRODUCE-RESULTS-' + data_tag + '-perc-of-data-' + str(sample_percentage) + '-3D-LDM-optimizing-on-' + optimizing + '-' + scaling + '-scaling-cost.csv', header=None).to_numpy().ravel()\n",
    "    costs_pure_scaling_3D.append(cost_pure_scaling_3D[0])\n",
    "\n",
    "    cost_subsetting_backward_3D = pd.read_csv('../results/REPRODUCE-RESULTS-' + data_tag + '-perc-of-data-' + str(sample_percentage) + '-3D-LDM-optimizing-on-' + optimizing + '-' + scaling + '-scaling-backward-variable-elimination-cost.csv', header=None).to_numpy().ravel()\n",
    "    costs_subsetting_backward_3D.append(cost_subsetting_backward_3D[0])"
   ]
  },
  {
   "cell_type": "code",
   "execution_count": 6,
   "metadata": {},
   "outputs": [
    {
     "name": "stdout",
     "output_type": "stream",
     "text": [
      "2\n",
      "0\n"
     ]
    }
   ],
   "source": [
    "(best_scaling_3D, ) = np.where(costs_pure_scaling_3D==np.min(costs_pure_scaling_3D))\n",
    "best_scaling_3D = int(best_scaling_3D)\n",
    "\n",
    "print(best_scaling_3D)\n",
    "\n",
    "(best_subset_backward_3D, ) = np.where(costs_subsetting_backward_3D==np.min(costs_subsetting_backward_3D))\n",
    "best_subset_backward_3D = int(best_subset_backward_3D)\n",
    "\n",
    "print(best_subset_backward_3D)"
   ]
  },
  {
   "cell_type": "markdown",
   "metadata": {},
   "source": [
    "### Results for 4D manifolds"
   ]
  },
  {
   "cell_type": "code",
   "execution_count": 7,
   "metadata": {},
   "outputs": [],
   "source": [
    "costs_pure_scaling_4D = []\n",
    "costs_subsetting_backward_4D = []\n",
    "\n",
    "for scaling in scalings_list:\n",
    "    \n",
    "    cost_pure_scaling_4D = pd.read_csv('../results/REPRODUCE-RESULTS-' + data_tag + '-perc-of-data-' + str(sample_percentage) + '-4D-LDM-optimizing-on-' + optimizing + '-' + scaling + '-scaling-cost.csv', header=None).to_numpy().ravel()\n",
    "    costs_pure_scaling_4D.append(cost_pure_scaling_4D[0])\n",
    "\n",
    "    cost_subsetting_backward_4D = pd.read_csv('../results/REPRODUCE-RESULTS-' + data_tag + '-perc-of-data-' + str(sample_percentage) + '-4D-LDM-optimizing-on-' + optimizing + '-' + scaling + '-scaling-backward-variable-elimination-cost.csv', header=None).to_numpy().ravel()\n",
    "    costs_subsetting_backward_4D.append(cost_subsetting_backward_4D[0])"
   ]
  },
  {
   "cell_type": "code",
   "execution_count": 8,
   "metadata": {},
   "outputs": [
    {
     "name": "stdout",
     "output_type": "stream",
     "text": [
      "2\n",
      "2\n"
     ]
    }
   ],
   "source": [
    "(best_scaling_4D, ) = np.where(costs_pure_scaling_4D==np.min(costs_pure_scaling_4D))\n",
    "best_scaling_4D = int(best_scaling_4D)\n",
    "\n",
    "print(best_scaling_4D)\n",
    "\n",
    "(best_subset_backward_4D, ) = np.where(costs_subsetting_backward_4D==np.min(costs_subsetting_backward_4D))\n",
    "best_subset_backward_4D = int(best_subset_backward_4D)\n",
    "\n",
    "print(best_subset_backward_4D)"
   ]
  },
  {
   "cell_type": "markdown",
   "metadata": {},
   "source": [
    "### Results for 5D manifolds"
   ]
  },
  {
   "cell_type": "code",
   "execution_count": 9,
   "metadata": {},
   "outputs": [],
   "source": [
    "costs_pure_scaling_5D = []\n",
    "costs_subsetting_backward_5D = []\n",
    "\n",
    "for scaling in scalings_list:\n",
    "    \n",
    "    cost_pure_scaling_5D = pd.read_csv('../results/REPRODUCE-RESULTS-' + data_tag + '-perc-of-data-' + str(sample_percentage) + '-5D-LDM-optimizing-on-' + optimizing + '-' + scaling + '-scaling-cost.csv', header=None).to_numpy().ravel()\n",
    "    costs_pure_scaling_5D.append(cost_pure_scaling_5D[0])\n",
    "\n",
    "    cost_subsetting_backward_5D = pd.read_csv('../results/REPRODUCE-RESULTS-' + data_tag + '-perc-of-data-' + str(sample_percentage) + '-5D-LDM-optimizing-on-' + optimizing + '-' + scaling + '-scaling-backward-variable-elimination-cost.csv', header=None).to_numpy().ravel()\n",
    "    costs_subsetting_backward_5D.append(cost_subsetting_backward_5D[0])"
   ]
  },
  {
   "cell_type": "code",
   "execution_count": 10,
   "metadata": {},
   "outputs": [
    {
     "name": "stdout",
     "output_type": "stream",
     "text": [
      "1\n",
      "1\n"
     ]
    }
   ],
   "source": [
    "(best_scaling_5D, ) = np.where(costs_pure_scaling_5D==np.min(costs_pure_scaling_5D))\n",
    "best_scaling_5D = int(best_scaling_5D)\n",
    "\n",
    "print(best_scaling_5D)\n",
    "\n",
    "(best_subset_backward_5D, ) = np.where(costs_subsetting_backward_5D==np.min(costs_subsetting_backward_5D))\n",
    "best_subset_backward_5D = int(best_subset_backward_5D)\n",
    "\n",
    "print(best_subset_backward_5D)"
   ]
  },
  {
   "cell_type": "markdown",
   "metadata": {},
   "source": [
    "***\n",
    "\n",
    "## ✏️ Plot the combined costs for 2D and 3D manifolds"
   ]
  },
  {
   "cell_type": "code",
   "execution_count": 11,
   "metadata": {},
   "outputs": [
    {
     "data": {
      "image/png": "[encoded data removed]",
      "text/plain": [
       "<Figure size 1440x180 with 1 Axes>"
      ]
     },
     "metadata": {
      "needs_background": "light"
     },
     "output_type": "display_data"
    }
   ],
   "source": [
    "fig = plt.figure(figsize=(len(tex_scalings_list)*2.5, 2.5))\n",
    "fig.tight_layout(pad=-30)\n",
    "spec = fig.add_gridspec(ncols=1, nrows=1)\n",
    "widths = [1]\n",
    "heights = [1]\n",
    "spec = fig.add_gridspec(ncols=1, nrows=1, width_ratios=widths, height_ratios=heights)\n",
    "\n",
    "x_range = np.array([i for i in range(0,len(tex_scalings_list))])\n",
    "\n",
    "ax = fig.add_subplot(spec[0,0])\n",
    "\n",
    "offset = 0.1\n",
    "\n",
    "plt.scatter(x_range - 1.5*offset, costs_pure_scaling_2D, c='k', marker='o', s=60, edgecolor='none', zorder=3, label='Scaling')\n",
    "plt.scatter(x_range[best_scaling_2D] - 1.5*offset, costs_pure_scaling_2D[best_scaling_2D], facecolors='none', marker='o', s=350, edgecolor='k', zorder=1, alpha=0.6, lw=2, label='Lowest cost')\n",
    "plt.scatter(x_range - 1.5*offset, costs_subsetting_backward_2D, c='r', marker='<', s=130, edgecolor='none',  zorder=3, label='Scaling and variable selection')\n",
    "plt.scatter(x_range[best_subset_backward_2D] - 1.5*offset, costs_subsetting_backward_2D[best_subset_backward_2D], facecolors='none', marker='<', s=400, edgecolor='r', zorder=1, alpha=0.6, lw=2, label='Lowest cost')\n",
    "\n",
    "plt.scatter(x_range - 0.5*offset, costs_pure_scaling_3D, c='k', marker='o', s=60, edgecolor='none',  zorder=3)\n",
    "plt.scatter(x_range[best_scaling_3D] - 0.5*offset, costs_pure_scaling_3D[best_scaling_3D], facecolors='none', marker='o', s=350, edgecolor='k', zorder=1, alpha=0.6, lw=2)\n",
    "plt.scatter(x_range - 0.5*offset, costs_subsetting_backward_3D, c='r', marker='<', s=130, edgecolor='none', zorder=3)\n",
    "plt.scatter(x_range[best_subset_backward_3D] - 0.5*offset, costs_subsetting_backward_3D[best_subset_backward_3D], facecolors='none', marker='<', s=400, edgecolor='r', zorder=1, alpha=0.6, lw=2)\n",
    "\n",
    "plt.scatter(x_range + 0.5*offset, costs_pure_scaling_4D, c='k', marker='o', s=60, edgecolor='none', zorder=3)\n",
    "plt.scatter(x_range[best_scaling_4D] + 0.5*offset, costs_pure_scaling_4D[best_scaling_4D], facecolors='none', marker='o', s=350, edgecolor='k', zorder=1, alpha=0.6, lw=2)\n",
    "plt.scatter(x_range + 0.5*offset, costs_subsetting_backward_4D, c='r', marker='<', s=130, edgecolor='none', zorder=3)\n",
    "plt.scatter(x_range[best_subset_backward_4D] + 0.5*offset, costs_subsetting_backward_4D[best_subset_backward_4D], facecolors='none', marker='<', s=400, edgecolor='r', zorder=1, alpha=0.6, lw=2)\n",
    "\n",
    "plt.scatter(x_range + 1.5*offset, costs_pure_scaling_5D, c='k', marker='o', s=60, edgecolor='none',zorder=3)\n",
    "plt.scatter(x_range[best_scaling_5D] + 1.5*offset, costs_pure_scaling_5D[best_scaling_5D], facecolors='none', marker='o', s=350, edgecolor='k', zorder=1, alpha=0.6, lw=2)\n",
    "plt.scatter(x_range + 1.5*offset, costs_subsetting_backward_5D, c='r', marker='<', s=130, edgecolor='none', zorder=3)\n",
    "plt.scatter(x_range[best_subset_backward_5D] + 1.5*offset, costs_subsetting_backward_5D[best_subset_backward_5D], facecolors='none', marker='<', s=400, edgecolor='r', zorder=1, alpha=0.6, lw=2)\n",
    "\n",
    "plt.xticks(x_range, tex_scalings_list, fontsize=16, **csfont)\n",
    "\n",
    "plt.grid(alpha=0.3, zorder=0)\n",
    "plt.xlim([-0.5,len(x_range)-0.5])\n",
    "\n",
    "ax.set_yscale('log')\n",
    "plt.yticks(fontsize=13)\n",
    "ax.set_yticks([5,6,7,8,9,10,11,12,13,14,15])\n",
    "ax.get_yaxis().set_major_formatter(matplotlib.ticker.ScalarFormatter())\n",
    "plt.ylim([4.8,13])\n",
    "plt.ylabel('$\\mathcal{L}$', fontsize=30, rotation=0, horizontalalignment='right')\n",
    "\n",
    "plt.text(6.55, 12, '$q$ = 2 3 4 5', fontsize=16)\n",
    "plt.arrow(6.85, 11.5, 0, -1.9, width=0.02, color='k', head_length=1, zorder=6)\n",
    "plt.arrow(6.95, 11.5, 0, -1.9, width=0.02, color='k', head_length=1, zorder=6)\n",
    "plt.arrow(7.05, 11.5, 0, -1.9, width=0.02, color='k', head_length=1, zorder=6)\n",
    "plt.arrow(7.15, 11.5, 0, -1.9, width=0.02, color='k', head_length=1, zorder=6)\n",
    "\n",
    "plt.gca().spines[\"top\"].set_visible(False)\n",
    "plt.gca().spines[\"right\"].set_visible(False)\n",
    "\n",
    "lgnd = plt.legend(ncol=2, fontsize=14, markerscale=marker_scale_legend, loc=\"upper left\", frameon=False, bbox_to_anchor=(0.01,1.12))\n",
    "\n",
    "for i in range(0, len(scalings_list)):\n",
    "\n",
    "    dy = costs_subsetting_backward_2D[i] - costs_pure_scaling_2D[i]\n",
    "    plt.arrow(x_range[i] - 1.5*offset, costs_pure_scaling_2D[i], 0, dy, color='k', ls='-', lw=1, zorder=2)\n",
    "    \n",
    "    dy = costs_subsetting_backward_3D[i] - costs_pure_scaling_3D[i]\n",
    "    plt.arrow(x_range[i] - 0.5*offset, costs_pure_scaling_3D[i], 0, dy, color='k', ls='-', lw=1, zorder=2)\n",
    "    \n",
    "    dy = costs_subsetting_backward_4D[i] - costs_pure_scaling_4D[i]\n",
    "    plt.arrow(x_range[i] + 0.5*offset, costs_pure_scaling_4D[i], 0, dy, color='k', ls='-', lw=1,zorder=2)\n",
    "    \n",
    "    dy = costs_subsetting_backward_5D[i] - costs_pure_scaling_5D[i]\n",
    "    plt.arrow(x_range[i] + 1.5*offset, costs_pure_scaling_5D[i], 0, dy, color='k', ls='-', lw=1, zorder=2)\n",
    "    \n",
    "plt.savefig('../figures/Figure-6.png', dpi=200, bbox_inches='tight')"
   ]
  },
  {
   "cell_type": "markdown",
   "metadata": {},
   "source": [
    "***"
   ]
  }
 ],
 "metadata": {
  "kernelspec": {
   "display_name": "Python 3",
   "language": "python",
   "name": "python3"
  },
  "language_info": {
   "codemirror_mode": {
    "name": "ipython",
    "version": 3
   },
   "file_extension": ".py",
   "mimetype": "text/x-python",
   "name": "python",
   "nbconvert_exporter": "python",
   "pygments_lexer": "ipython3",
   "version": "3.7.6"
  }
 },
 "nbformat": 4,
 "nbformat_minor": 4
}
