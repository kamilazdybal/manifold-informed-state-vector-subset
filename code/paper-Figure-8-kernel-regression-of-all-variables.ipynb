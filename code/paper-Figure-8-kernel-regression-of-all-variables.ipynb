{
 "cells": [
  {
   "cell_type": "markdown",
   "metadata": {},
   "source": [
    "# 📄 Compute the kernel regression errors for all variables (**Figure 8**)\n",
    "\n",
    "***"
   ]
  },
  {
   "cell_type": "code",
   "execution_count": 1,
   "metadata": {},
   "outputs": [],
   "source": [
    "%run -i imports.py\n",
    "%matplotlib inline"
   ]
  },
  {
   "cell_type": "code",
   "execution_count": 2,
   "metadata": {},
   "outputs": [],
   "source": [
    "n_components = 3\n",
    "sample_percentage = 100"
   ]
  },
  {
   "cell_type": "code",
   "execution_count": 3,
   "metadata": {},
   "outputs": [
    {
     "name": "stdout",
     "output_type": "stream",
     "text": [
      "Removing N2.\n",
      "\n",
      "The data set has 14550 observations.\n",
      "\n",
      "Using: T, H2, O2, OH, H2O, CO, CO2 as target variables.\n"
     ]
    }
   ],
   "source": [
    "data_tag = 'clustered-flamelet-CO-H2-10-1'\n",
    "# data_tag = 'clustered-flamelet-H2'\n",
    "# data_tag = 'clustered-flamelet-C2H4'\n",
    "%run -i load-SLFM-data.py"
   ]
  },
  {
   "cell_type": "code",
   "execution_count": 4,
   "metadata": {},
   "outputs": [],
   "source": [
    "# Set the kernel regression parameters here:\n",
    "train_perc = 80\n",
    "test_perc = 20\n",
    "\n",
    "if data_tag == 'clustered-flamelet-H2':\n",
    "    n_neighbors = 250\n",
    "    n_neighbors_subset = 250\n",
    "if data_tag == 'clustered-flamelet-CO-H2-10-1':\n",
    "    n_neighbors = 50\n",
    "    n_neighbors_subset = 50\n",
    "if data_tag == 'clustered-flamelet-C2H4':\n",
    "    n_neighbors = 50\n",
    "    n_neighbors_subset = 50"
   ]
  },
  {
   "cell_type": "code",
   "execution_count": 5,
   "metadata": {},
   "outputs": [],
   "source": [
    "if data_tag == 'clustered-flamelet-H2':\n",
    "\n",
    "    regressed_variables_names = ['$S_{Z,1}$',\n",
    "     '$S_{Z,2}$',\n",
    "     '$S_{Z,3}$',\n",
    "     '$T$',\n",
    "     'H',\n",
    "     'H$_2$',\n",
    "     'O',\n",
    "     'OH',\n",
    "     'H$_2$O',\n",
    "     'O$_2$',\n",
    "     'HO$_2$',\n",
    "     'H$_2$O$_2$']\n",
    "\n",
    "if data_tag == 'clustered-flamelet-CO-H2-10-1':\n",
    "    \n",
    "    regressed_variables_names = ['$S_{Z,1}$',\n",
    "     '$S_{Z,2}$',\n",
    "     '$S_{Z,3}$',\n",
    "     '$T$',\n",
    "     'H$_2$',\n",
    "     'O$_2$',\n",
    "     'O',\n",
    "     'OH',\n",
    "     'H$_2$O',\n",
    "     'H',\n",
    "     'HO$_2$',\n",
    "     'CO',\n",
    "     'CO$_2$',\n",
    "     'HCO']\n",
    "    \n",
    "if data_tag == 'clustered-flamelet-C2H4':\n",
    "    \n",
    "    regressed_variables_names = ['$S_{Z,1}$',\n",
    "     '$S_{Z,2}$',\n",
    "     '$S_{Z,3}$',\n",
    "     '$T$',\n",
    "     'H$_2$',\n",
    "     'H',\n",
    "     'O',\n",
    "     'O$_2$',\n",
    "     'OH',\n",
    "     'H$_2$O',\n",
    "     'HO$_2$',\n",
    "     'H$_2$O$_2$',\n",
    "     'CH',\n",
    "     'CH$_2$',\n",
    "     'CH$_2$*',\n",
    "     'CH$_3$',\n",
    "     'CH$_4$',\n",
    "     'CO',\n",
    "     'CO$_2$',\n",
    "     'HCO',\n",
    "     'CH$_2$O',\n",
    "     'CH$_3$O',\n",
    "     'C$_2$H$_2$',\n",
    "     'H$_2$CC',\n",
    "     'C$_2$H$_3$',\n",
    "     'C$_2$H$_4$',\n",
    "     'C$_2$H$_5$',\n",
    "     'C$_2$H$_6$',\n",
    "     'HCCO',\n",
    "     'CH$_2$CO',\n",
    "     'CH$_2$CHO',\n",
    "     'CH$_3$CHO',\n",
    "     'aC$_3$H$_5$',\n",
    "     'C$_3$H$_6$',\n",
    "     'nC$_3$H$_7$']"
   ]
  },
  {
   "cell_type": "code",
   "execution_count": 6,
   "metadata": {},
   "outputs": [],
   "source": [
    "optimizing_higlight = [i for i in range(0,n_components)] + list(np.array(target_variables_indices) + n_components)"
   ]
  },
  {
   "cell_type": "markdown",
   "metadata": {},
   "source": [
    "***\n",
    "\n",
    "## Run nonlinear regression on a manifold computed from the full state vector, $\\mathbf{X}$"
   ]
  },
  {
   "cell_type": "code",
   "execution_count": 7,
   "metadata": {},
   "outputs": [],
   "source": [
    "if data_tag == 'clustered-flamelet-H2':\n",
    "    scaling = 'max'\n",
    "if data_tag == 'clustered-flamelet-CO-H2-10-1':\n",
    "    scaling = '-1to1'\n",
    "if data_tag == 'clustered-flamelet-C2H4':\n",
    "    scaling = 'range'"
   ]
  },
  {
   "cell_type": "code",
   "execution_count": 8,
   "metadata": {},
   "outputs": [
    {
     "name": "stdout",
     "output_type": "stream",
     "text": [
      "\n",
      "Total time: 0.1 minutes.\n"
     ]
    }
   ],
   "source": [
    "total_tic = time.perf_counter()\n",
    "\n",
    "pca = reduction.PCA(state_space, scaling=scaling, n_components=n_components)\n",
    "PCs = pca.transform(state_space)\n",
    "PC_sources = pca.transform(state_space_sources, nocenter=True)\n",
    "\n",
    "symlog_PC_sources = preprocess.log_transform(PC_sources, method='continuous-symlog', threshold=1.e-4)\n",
    "\n",
    "OUTPUT = np.hstack((PC_sources, state_space))\n",
    "(_,n_regressed_variables) = np.shape(OUTPUT)\n",
    "(PCs_pp, centers_PCs, scales_PCs) = preprocess.center_scale(PCs, '-1to1')\n",
    "\n",
    "sample_random = preprocess.DataSampler(np.zeros((n_observations,)).astype(int), random_seed=random_seed, verbose=False)\n",
    "(idx_train, idx_test) = sample_random.random(train_perc)\n",
    "\n",
    "PCs_pp_train = PCs_pp[idx_train,:]\n",
    "OUTPUT_train = OUTPUT[idx_train,:]\n",
    "PCs_pp_test = PCs_pp[idx_test,:]\n",
    "OUTPUT_test = OUTPUT[idx_test,:]\n",
    "\n",
    "model = analysis.KReg(PCs_pp_train, OUTPUT_train)\n",
    "\n",
    "OUTPUT_predicted_test = model.predict(PCs_pp_test, bandwidth='nearest_neighbors_isotropic', n_neighbors=n_neighbors)\n",
    "OUTPUT_predicted_train = model.predict(PCs_pp_train, bandwidth='nearest_neighbors_isotropic', n_neighbors=n_neighbors)\n",
    "\n",
    "NRMSE_collected_test = []\n",
    "for i in range(0, n_regressed_variables):\n",
    "    NRMSE_test = analysis.normalized_root_mean_squared_error(OUTPUT_test[:,i], OUTPUT_predicted_test[:,i], norm='std')\n",
    "    NRMSE_collected_test.append(NRMSE_test)\n",
    "\n",
    "NRMSE_collected_train = []\n",
    "for i in range(0, n_regressed_variables):\n",
    "    NRMSE_train = analysis.normalized_root_mean_squared_error(OUTPUT_train[:,i], OUTPUT_predicted_train[:,i], norm='std')\n",
    "    NRMSE_collected_train.append(NRMSE_train)\n",
    "\n",
    "total_toc = time.perf_counter()\n",
    "print(f'\\nTotal time: {(total_toc - total_tic)/60:0.1f} minutes.')"
   ]
  },
  {
   "cell_type": "markdown",
   "metadata": {},
   "source": [
    "***\n",
    "\n",
    "## Run nonlinear regression on a manifold computed from the optimized state vector subset, $\\mathbf{X}_S$"
   ]
  },
  {
   "cell_type": "markdown",
   "metadata": {},
   "source": [
    "#### Hydrogen"
   ]
  },
  {
   "cell_type": "code",
   "execution_count": 9,
   "metadata": {},
   "outputs": [],
   "source": [
    "if data_tag == 'clustered-flamelet-H2':\n",
    "\n",
    "    scaling = 'auto'\n",
    "    selected_variables_list = [6, 3, 0, 1, 2, 4]\n",
    "    print(state_space_names[selected_variables_list])"
   ]
  },
  {
   "cell_type": "markdown",
   "metadata": {},
   "source": [
    "#### Syngas"
   ]
  },
  {
   "cell_type": "code",
   "execution_count": 10,
   "metadata": {},
   "outputs": [
    {
     "name": "stdout",
     "output_type": "stream",
     "text": [
      "['CO2' 'CO' 'H' 'O' 'OH']\n"
     ]
    }
   ],
   "source": [
    "if data_tag == 'clustered-flamelet-CO-H2-10-1':\n",
    "\n",
    "    scaling = 'range'\n",
    "    selected_variables_list = [9, 8, 6, 3, 4]\n",
    "    print(state_space_names[selected_variables_list])"
   ]
  },
  {
   "cell_type": "markdown",
   "metadata": {},
   "source": [
    "#### Ethylene"
   ]
  },
  {
   "cell_type": "code",
   "execution_count": 11,
   "metadata": {},
   "outputs": [],
   "source": [
    "if data_tag == 'clustered-flamelet-C2H4':\n",
    "    \n",
    "    scaling = 'auto'\n",
    "    selected_variables_list = [15,6,4,5,16,12,19,22,0,2,26,1]\n",
    "    print(state_space_names[sorted(selected_variables_list)])"
   ]
  },
  {
   "cell_type": "code",
   "execution_count": 12,
   "metadata": {},
   "outputs": [
    {
     "name": "stdout",
     "output_type": "stream",
     "text": [
      "\n",
      "Total time: 0.1 minutes.\n"
     ]
    }
   ],
   "source": [
    "total_tic = time.perf_counter()\n",
    "\n",
    "subset_pca = reduction.PCA(state_space[:,selected_variables_list], scaling=scaling, n_components=n_components)\n",
    "subset_PCs = subset_pca.transform(state_space[:,selected_variables_list])\n",
    "subset_PC_sources = subset_pca.transform(state_space_sources[:,selected_variables_list], nocenter=True)\n",
    "\n",
    "symlog_subset_PC_sources = preprocess.log_transform(subset_PC_sources, method='continuous-symlog', threshold=1.e-4)\n",
    "\n",
    "subset_OUTPUT = np.hstack((subset_PC_sources, state_space))\n",
    "(_,n_regressed_variables) = np.shape(subset_OUTPUT)\n",
    "(PCs_pp, centers_PCs, scales_PCs) = preprocess.center_scale(subset_PCs, '-1to1')\n",
    "\n",
    "sample_random = preprocess.DataSampler(np.zeros((n_observations,)).astype(int), random_seed=random_seed, verbose=False)\n",
    "(idx_train, idx_test) = sample_random.random(train_perc)\n",
    "\n",
    "PCs_pp_train = PCs_pp[idx_train,:]\n",
    "subset_OUTPUT_train = subset_OUTPUT[idx_train,:]\n",
    "PCs_pp_test = PCs_pp[idx_test,:]\n",
    "subset_OUTPUT_test = subset_OUTPUT[idx_test,:]\n",
    "\n",
    "model = analysis.KReg(PCs_pp_train, subset_OUTPUT_train)\n",
    "\n",
    "subset_OUTPUT_predicted_test = model.predict(PCs_pp_test, bandwidth='nearest_neighbors_isotropic', n_neighbors=n_neighbors_subset)\n",
    "subset_OUTPUT_predicted_train = model.predict(PCs_pp_train, bandwidth='nearest_neighbors_isotropic', n_neighbors=n_neighbors_subset)\n",
    "\n",
    "subset_NRMSE_collected_test = []\n",
    "for i in range(0, n_regressed_variables):\n",
    "    NRMSE_test = analysis.normalized_root_mean_squared_error(subset_OUTPUT_test[:,i], subset_OUTPUT_predicted_test[:,i], norm='std')\n",
    "    subset_NRMSE_collected_test.append(NRMSE_test)\n",
    "    \n",
    "subset_NRMSE_collected_train = []\n",
    "for i in range(0, n_regressed_variables):\n",
    "    NRMSE_train = analysis.normalized_root_mean_squared_error(subset_OUTPUT_train[:,i], subset_OUTPUT_predicted_train[:,i], norm='std')\n",
    "    subset_NRMSE_collected_train.append(NRMSE_train)\n",
    "\n",
    "total_toc = time.perf_counter()\n",
    "print(f'\\nTotal time: {(total_toc - total_tic)/60:0.1f} minutes.')"
   ]
  },
  {
   "cell_type": "markdown",
   "metadata": {},
   "source": [
    "***\n",
    "\n",
    "## Compare regression results "
   ]
  },
  {
   "cell_type": "code",
   "execution_count": 13,
   "metadata": {},
   "outputs": [],
   "source": [
    "regression_metrics_test = analysis.RegressionAssessment(OUTPUT_test, OUTPUT_predicted_test, variable_names=regressed_variables_names)\n",
    "subset_regression_metrics_test = analysis.RegressionAssessment(subset_OUTPUT_test, subset_OUTPUT_predicted_test, variable_names=regressed_variables_names)"
   ]
  },
  {
   "cell_type": "code",
   "execution_count": 14,
   "metadata": {},
   "outputs": [
    {
     "data": {
      "text/html": [
       "<style  type=\"text/css\" >\n",
       "</style><table id=\"T_79fa05c6_f194_11ec_b4ff_acde48001122\" ><thead>    <tr>        <th class=\"blank level0\" ></th>        <th class=\"col_heading level0 col0\" >NRMSE</th>    </tr></thead><tbody>\n",
       "                <tr>\n",
       "                        <th id=\"T_79fa05c6_f194_11ec_b4ff_acde48001122level0_row0\" class=\"row_heading level0 row0\" >$S_{Z,1}$</th>\n",
       "                        <td id=\"T_79fa05c6_f194_11ec_b4ff_acde48001122row0_col0\" class=\"data row0 col0\" >0.07720</td>\n",
       "            </tr>\n",
       "            <tr>\n",
       "                        <th id=\"T_79fa05c6_f194_11ec_b4ff_acde48001122level0_row1\" class=\"row_heading level0 row1\" >$S_{Z,2}$</th>\n",
       "                        <td id=\"T_79fa05c6_f194_11ec_b4ff_acde48001122row1_col0\" class=\"data row1 col0\" >0.06154</td>\n",
       "            </tr>\n",
       "            <tr>\n",
       "                        <th id=\"T_79fa05c6_f194_11ec_b4ff_acde48001122level0_row2\" class=\"row_heading level0 row2\" >$S_{Z,3}$</th>\n",
       "                        <td id=\"T_79fa05c6_f194_11ec_b4ff_acde48001122row2_col0\" class=\"data row2 col0\" >0.07151</td>\n",
       "            </tr>\n",
       "            <tr>\n",
       "                        <th id=\"T_79fa05c6_f194_11ec_b4ff_acde48001122level0_row3\" class=\"row_heading level0 row3\" >$T$</th>\n",
       "                        <td id=\"T_79fa05c6_f194_11ec_b4ff_acde48001122row3_col0\" class=\"data row3 col0\" >0.03349</td>\n",
       "            </tr>\n",
       "            <tr>\n",
       "                        <th id=\"T_79fa05c6_f194_11ec_b4ff_acde48001122level0_row4\" class=\"row_heading level0 row4\" >H$_2$</th>\n",
       "                        <td id=\"T_79fa05c6_f194_11ec_b4ff_acde48001122row4_col0\" class=\"data row4 col0\" >0.02462</td>\n",
       "            </tr>\n",
       "            <tr>\n",
       "                        <th id=\"T_79fa05c6_f194_11ec_b4ff_acde48001122level0_row5\" class=\"row_heading level0 row5\" >O$_2$</th>\n",
       "                        <td id=\"T_79fa05c6_f194_11ec_b4ff_acde48001122row5_col0\" class=\"data row5 col0\" >0.01544</td>\n",
       "            </tr>\n",
       "            <tr>\n",
       "                        <th id=\"T_79fa05c6_f194_11ec_b4ff_acde48001122level0_row6\" class=\"row_heading level0 row6\" >O</th>\n",
       "                        <td id=\"T_79fa05c6_f194_11ec_b4ff_acde48001122row6_col0\" class=\"data row6 col0\" >0.02378</td>\n",
       "            </tr>\n",
       "            <tr>\n",
       "                        <th id=\"T_79fa05c6_f194_11ec_b4ff_acde48001122level0_row7\" class=\"row_heading level0 row7\" >OH</th>\n",
       "                        <td id=\"T_79fa05c6_f194_11ec_b4ff_acde48001122row7_col0\" class=\"data row7 col0\" >0.02771</td>\n",
       "            </tr>\n",
       "            <tr>\n",
       "                        <th id=\"T_79fa05c6_f194_11ec_b4ff_acde48001122level0_row8\" class=\"row_heading level0 row8\" >H$_2$O</th>\n",
       "                        <td id=\"T_79fa05c6_f194_11ec_b4ff_acde48001122row8_col0\" class=\"data row8 col0\" >0.04815</td>\n",
       "            </tr>\n",
       "            <tr>\n",
       "                        <th id=\"T_79fa05c6_f194_11ec_b4ff_acde48001122level0_row9\" class=\"row_heading level0 row9\" >H</th>\n",
       "                        <td id=\"T_79fa05c6_f194_11ec_b4ff_acde48001122row9_col0\" class=\"data row9 col0\" >0.04144</td>\n",
       "            </tr>\n",
       "            <tr>\n",
       "                        <th id=\"T_79fa05c6_f194_11ec_b4ff_acde48001122level0_row10\" class=\"row_heading level0 row10\" >HO$_2$</th>\n",
       "                        <td id=\"T_79fa05c6_f194_11ec_b4ff_acde48001122row10_col0\" class=\"data row10 col0\" >0.04887</td>\n",
       "            </tr>\n",
       "            <tr>\n",
       "                        <th id=\"T_79fa05c6_f194_11ec_b4ff_acde48001122level0_row11\" class=\"row_heading level0 row11\" >CO</th>\n",
       "                        <td id=\"T_79fa05c6_f194_11ec_b4ff_acde48001122row11_col0\" class=\"data row11 col0\" >0.02456</td>\n",
       "            </tr>\n",
       "            <tr>\n",
       "                        <th id=\"T_79fa05c6_f194_11ec_b4ff_acde48001122level0_row12\" class=\"row_heading level0 row12\" >CO$_2$</th>\n",
       "                        <td id=\"T_79fa05c6_f194_11ec_b4ff_acde48001122row12_col0\" class=\"data row12 col0\" >0.03531</td>\n",
       "            </tr>\n",
       "            <tr>\n",
       "                        <th id=\"T_79fa05c6_f194_11ec_b4ff_acde48001122level0_row13\" class=\"row_heading level0 row13\" >HCO</th>\n",
       "                        <td id=\"T_79fa05c6_f194_11ec_b4ff_acde48001122row13_col0\" class=\"data row13 col0\" >0.07009</td>\n",
       "            </tr>\n",
       "    </tbody></table>"
      ],
      "text/plain": [
       "<pandas.io.formats.style.Styler at 0x1065ccc50>"
      ]
     },
     "metadata": {},
     "output_type": "display_data"
    }
   ],
   "source": [
    "regression_metrics_test.print_metrics(table_format=['pandas'],\n",
    "                                   float_format='.5f',\n",
    "                                   metrics=['NRMSE'])"
   ]
  },
  {
   "cell_type": "code",
   "execution_count": 15,
   "metadata": {},
   "outputs": [
    {
     "data": {
      "text/html": [
       "<style  type=\"text/css\" >\n",
       "    #T_79fd5276_f194_11ec_b4ff_acde48001122row0_col0 {\n",
       "            background-color:  lightgreen;\n",
       "            : ;\n",
       "        }    #T_79fd5276_f194_11ec_b4ff_acde48001122row1_col0 {\n",
       "            background-color:  lightgreen;\n",
       "            : ;\n",
       "        }    #T_79fd5276_f194_11ec_b4ff_acde48001122row2_col0 {\n",
       "            background-color:  lightgreen;\n",
       "            : ;\n",
       "        }    #T_79fd5276_f194_11ec_b4ff_acde48001122row3_col0 {\n",
       "            background-color:  lightgreen;\n",
       "            : ;\n",
       "        }    #T_79fd5276_f194_11ec_b4ff_acde48001122row4_col0 {\n",
       "            background-color:  lightgreen;\n",
       "            : ;\n",
       "        }    #T_79fd5276_f194_11ec_b4ff_acde48001122row5_col0 {\n",
       "            background-color:  lightgreen;\n",
       "            : ;\n",
       "        }    #T_79fd5276_f194_11ec_b4ff_acde48001122row6_col0 {\n",
       "            background-color:  lightgreen;\n",
       "            : ;\n",
       "        }    #T_79fd5276_f194_11ec_b4ff_acde48001122row7_col0 {\n",
       "            : ;\n",
       "            background-color:  salmon;\n",
       "        }    #T_79fd5276_f194_11ec_b4ff_acde48001122row8_col0 {\n",
       "            background-color:  lightgreen;\n",
       "            : ;\n",
       "        }    #T_79fd5276_f194_11ec_b4ff_acde48001122row9_col0 {\n",
       "            background-color:  lightgreen;\n",
       "            : ;\n",
       "        }    #T_79fd5276_f194_11ec_b4ff_acde48001122row10_col0 {\n",
       "            : ;\n",
       "            background-color:  salmon;\n",
       "        }    #T_79fd5276_f194_11ec_b4ff_acde48001122row11_col0 {\n",
       "            background-color:  lightgreen;\n",
       "            : ;\n",
       "        }    #T_79fd5276_f194_11ec_b4ff_acde48001122row12_col0 {\n",
       "            background-color:  lightgreen;\n",
       "            : ;\n",
       "        }    #T_79fd5276_f194_11ec_b4ff_acde48001122row13_col0 {\n",
       "            : ;\n",
       "            background-color:  salmon;\n",
       "        }</style><table id=\"T_79fd5276_f194_11ec_b4ff_acde48001122\" ><thead>    <tr>        <th class=\"blank level0\" ></th>        <th class=\"col_heading level0 col0\" >NRMSE</th>    </tr></thead><tbody>\n",
       "                <tr>\n",
       "                        <th id=\"T_79fd5276_f194_11ec_b4ff_acde48001122level0_row0\" class=\"row_heading level0 row0\" >$S_{Z,1}$</th>\n",
       "                        <td id=\"T_79fd5276_f194_11ec_b4ff_acde48001122row0_col0\" class=\"data row0 col0\" >0.03200</td>\n",
       "            </tr>\n",
       "            <tr>\n",
       "                        <th id=\"T_79fd5276_f194_11ec_b4ff_acde48001122level0_row1\" class=\"row_heading level0 row1\" >$S_{Z,2}$</th>\n",
       "                        <td id=\"T_79fd5276_f194_11ec_b4ff_acde48001122row1_col0\" class=\"data row1 col0\" >0.05717</td>\n",
       "            </tr>\n",
       "            <tr>\n",
       "                        <th id=\"T_79fd5276_f194_11ec_b4ff_acde48001122level0_row2\" class=\"row_heading level0 row2\" >$S_{Z,3}$</th>\n",
       "                        <td id=\"T_79fd5276_f194_11ec_b4ff_acde48001122row2_col0\" class=\"data row2 col0\" >0.04615</td>\n",
       "            </tr>\n",
       "            <tr>\n",
       "                        <th id=\"T_79fd5276_f194_11ec_b4ff_acde48001122level0_row3\" class=\"row_heading level0 row3\" >$T$</th>\n",
       "                        <td id=\"T_79fd5276_f194_11ec_b4ff_acde48001122row3_col0\" class=\"data row3 col0\" >0.02313</td>\n",
       "            </tr>\n",
       "            <tr>\n",
       "                        <th id=\"T_79fd5276_f194_11ec_b4ff_acde48001122level0_row4\" class=\"row_heading level0 row4\" >H$_2$</th>\n",
       "                        <td id=\"T_79fd5276_f194_11ec_b4ff_acde48001122row4_col0\" class=\"data row4 col0\" >0.01726</td>\n",
       "            </tr>\n",
       "            <tr>\n",
       "                        <th id=\"T_79fd5276_f194_11ec_b4ff_acde48001122level0_row5\" class=\"row_heading level0 row5\" >O$_2$</th>\n",
       "                        <td id=\"T_79fd5276_f194_11ec_b4ff_acde48001122row5_col0\" class=\"data row5 col0\" >0.01521</td>\n",
       "            </tr>\n",
       "            <tr>\n",
       "                        <th id=\"T_79fd5276_f194_11ec_b4ff_acde48001122level0_row6\" class=\"row_heading level0 row6\" >O</th>\n",
       "                        <td id=\"T_79fd5276_f194_11ec_b4ff_acde48001122row6_col0\" class=\"data row6 col0\" >0.01723</td>\n",
       "            </tr>\n",
       "            <tr>\n",
       "                        <th id=\"T_79fd5276_f194_11ec_b4ff_acde48001122level0_row7\" class=\"row_heading level0 row7\" >OH</th>\n",
       "                        <td id=\"T_79fd5276_f194_11ec_b4ff_acde48001122row7_col0\" class=\"data row7 col0\" >0.03447</td>\n",
       "            </tr>\n",
       "            <tr>\n",
       "                        <th id=\"T_79fd5276_f194_11ec_b4ff_acde48001122level0_row8\" class=\"row_heading level0 row8\" >H$_2$O</th>\n",
       "                        <td id=\"T_79fd5276_f194_11ec_b4ff_acde48001122row8_col0\" class=\"data row8 col0\" >0.03658</td>\n",
       "            </tr>\n",
       "            <tr>\n",
       "                        <th id=\"T_79fd5276_f194_11ec_b4ff_acde48001122level0_row9\" class=\"row_heading level0 row9\" >H</th>\n",
       "                        <td id=\"T_79fd5276_f194_11ec_b4ff_acde48001122row9_col0\" class=\"data row9 col0\" >0.03002</td>\n",
       "            </tr>\n",
       "            <tr>\n",
       "                        <th id=\"T_79fd5276_f194_11ec_b4ff_acde48001122level0_row10\" class=\"row_heading level0 row10\" >HO$_2$</th>\n",
       "                        <td id=\"T_79fd5276_f194_11ec_b4ff_acde48001122row10_col0\" class=\"data row10 col0\" >0.10907</td>\n",
       "            </tr>\n",
       "            <tr>\n",
       "                        <th id=\"T_79fd5276_f194_11ec_b4ff_acde48001122level0_row11\" class=\"row_heading level0 row11\" >CO</th>\n",
       "                        <td id=\"T_79fd5276_f194_11ec_b4ff_acde48001122row11_col0\" class=\"data row11 col0\" >0.01792</td>\n",
       "            </tr>\n",
       "            <tr>\n",
       "                        <th id=\"T_79fd5276_f194_11ec_b4ff_acde48001122level0_row12\" class=\"row_heading level0 row12\" >CO$_2$</th>\n",
       "                        <td id=\"T_79fd5276_f194_11ec_b4ff_acde48001122row12_col0\" class=\"data row12 col0\" >0.02388</td>\n",
       "            </tr>\n",
       "            <tr>\n",
       "                        <th id=\"T_79fd5276_f194_11ec_b4ff_acde48001122level0_row13\" class=\"row_heading level0 row13\" >HCO</th>\n",
       "                        <td id=\"T_79fd5276_f194_11ec_b4ff_acde48001122row13_col0\" class=\"data row13 col0\" >0.36751</td>\n",
       "            </tr>\n",
       "    </tbody></table>"
      ],
      "text/plain": [
       "<pandas.io.formats.style.Styler at 0x1a1b52ff50>"
      ]
     },
     "metadata": {},
     "output_type": "display_data"
    }
   ],
   "source": [
    "subset_regression_metrics_test.print_metrics(table_format=['pandas'],\n",
    "                                   float_format='.5f',\n",
    "                                   metrics=['NRMSE'],\n",
    "                                   comparison=regression_metrics_test)"
   ]
  },
  {
   "cell_type": "markdown",
   "metadata": {},
   "source": [
    "***\n",
    "\n",
    "## ✏️ Plot NRMSE comparison on test data only"
   ]
  },
  {
   "cell_type": "code",
   "execution_count": 16,
   "metadata": {},
   "outputs": [
    {
     "data": {
      "image/png": "[encoded data removed]",
      "text/plain": [
       "<Figure size 432x277.2 with 1 Axes>"
      ]
     },
     "metadata": {
      "needs_background": "light"
     },
     "output_type": "display_data"
    }
   ],
   "source": [
    "fig = plt.figure(figsize=(6, 0.35*len(state_space_names)))\n",
    "fig.tight_layout(pad=-30)\n",
    "spec = fig.add_gridspec(ncols=1, nrows=1)\n",
    "widths = [1]\n",
    "heights = [1]\n",
    "spec = fig.add_gridspec(ncols=1, nrows=1, width_ratios=widths, height_ratios=heights)\n",
    "\n",
    "x_range = np.array([i for i in range(0,n_regressed_variables)])\n",
    "\n",
    "ax = fig.add_subplot(spec[0,0])\n",
    "\n",
    "plt.scatter(subset_NRMSE_collected_test, x_range, c='r', marker='<', s=120, edgecolor='none', zorder=5, label='Optimized subset')\n",
    "plt.scatter(NRMSE_collected_test, x_range, c='k', marker='o', s=60, edgecolor='none',  zorder=5, label='Full state vector')\n",
    "\n",
    "plt.yticks(x_range, regressed_variables_names, fontsize=12)\n",
    "plt.grid(alpha=0.3, zorder=0)\n",
    "plt.ylim([-0.5,len(x_range)-0.5])\n",
    "plt.xlabel('NRMSE [$-$]', fontsize=16)\n",
    "\n",
    "ax.set_xscale('log')\n",
    "\n",
    "for i in optimizing_higlight:\n",
    "    ax.get_yticklabels()[i].set_color('r')\n",
    "    ax.get_yticklabels()[i].set_fontweight(1000)\n",
    "\n",
    "if data_tag == 'clustered-flamelet-H2':\n",
    "    ax.set_xticks([0.07,0.08,0.09,0.1,0.2,0.3,0.4,0.5,0.6])\n",
    "    ax.get_xaxis().set_major_formatter(matplotlib.ticker.ScalarFormatter())\n",
    "    plt.xlim([0.065,0.6])\n",
    "    lgnd = plt.legend(ncol=1, fontsize=12, markerscale=marker_scale_legend, loc=\"upper left\")\n",
    "    \n",
    "if data_tag == 'clustered-flamelet-CO-H2-10-1':\n",
    "    ax.set_xticks([0.01,0.02,0.03,0.04,0.05,0.1,0.2,0.3,0.4,0.5])\n",
    "    ax.get_xaxis().set_major_formatter(matplotlib.ticker.ScalarFormatter())\n",
    "    plt.xlim([0.01,0.5])\n",
    "    lgnd = plt.legend(ncol=1, fontsize=12, markerscale=marker_scale_legend, loc=\"center right\")\n",
    "\n",
    "if data_tag == 'clustered-flamelet-C2H4':\n",
    "    ax.set_xticks([0.02,0.03,0.04,0.05,0.1,0.2,0.3,0.4,0.5,0.6])\n",
    "    ax.get_xaxis().set_major_formatter(matplotlib.ticker.ScalarFormatter())\n",
    "    plt.xlim([0.025,0.6])\n",
    "    lgnd = plt.legend(ncol=1, fontsize=12, markerscale=marker_scale_legend, loc=\"upper left\")\n",
    "    \n",
    "plt.xticks(fontsize=12, rotation=90)\n",
    "plt.gca().invert_yaxis()\n",
    "plt.grid(b=True, which='minor', alpha=0.3, zorder=0)\n",
    "plt.gca().spines[\"top\"].set_visible(False)\n",
    "plt.gca().spines[\"right\"].set_visible(False)\n",
    "\n",
    "for i in range(0, n_regressed_variables):\n",
    "\n",
    "    x_values = [x_range[i], x_range[i]]\n",
    "    y_values = [NRMSE_collected_test[i], subset_NRMSE_collected_test[i]]\n",
    "    plt.plot(y_values, x_values, color='k', ls='-', lw=1, zorder=3)\n",
    "    \n",
    "plt.savefig('../figures/Figure-8.png', dpi=200, bbox_inches='tight')"
   ]
  },
  {
   "cell_type": "markdown",
   "metadata": {},
   "source": [
    "***"
   ]
  }
 ],
 "metadata": {
  "kernelspec": {
   "display_name": "Python 3",
   "language": "python",
   "name": "python3"
  },
  "language_info": {
   "codemirror_mode": {
    "name": "ipython",
    "version": 3
   },
   "file_extension": ".py",
   "mimetype": "text/x-python",
   "name": "python",
   "nbconvert_exporter": "python",
   "pygments_lexer": "ipython3",
   "version": "3.7.6"
  }
 },
 "nbformat": 4,
 "nbformat_minor": 4
}
